{
 "cells": [
  {
   "cell_type": "code",
   "execution_count": 1,
   "id": "37d69d9a-8794-4bd0-a392-7853257182fa",
   "metadata": {},
   "outputs": [],
   "source": [
    "import numpy as np\n",
    "import matplotlib.pyplot as plt"
   ]
  },
  {
   "cell_type": "code",
   "execution_count": 6,
   "id": "81d40c7e-06d1-4dc1-865e-9a31ea7b4148",
   "metadata": {},
   "outputs": [
    {
     "data": {
      "text/plain": [
       "[]"
      ]
     },
     "execution_count": 6,
     "metadata": {},
     "output_type": "execute_result"
    },
    {
     "data": {
      "image/png": "[encoded data removed]",
      "text/plain": [
       "<Figure size 432x288 with 1 Axes>"
      ]
     },
     "metadata": {
      "needs_background": "light"
     },
     "output_type": "display_data"
    }
   ],
   "source": [
    "plt.scatter(\n",
    "    np.array([1.5, 2, 4, 5, 6]), \n",
    "    np.array([1.5, 1.8, 3, 3.5, 3])\n",
    ")\n",
    "\n",
    "plt.scatter(\n",
    "    np.array([0, 0, 0, 0, 0]), \n",
    "    np.array([1.5, 1.8, 3, 3.5, 3]),\n",
    "    color=\"r\"\n",
    ")\n",
    "\n",
    "plt.plot()"
   ]
  }
 ],
 "metadata": {
  "kernelspec": {
   "display_name": "Python 3 (ipykernel)",
   "language": "python",
   "name": "python3"
  },
  "language_info": {
   "codemirror_mode": {
    "name": "ipython",
    "version": 3
   },
   "file_extension": ".py",
   "mimetype": "text/x-python",
   "name": "python",
   "nbconvert_exporter": "python",
   "pygments_lexer": "ipython3",
   "version": "3.8.12"
  }
 },
 "nbformat": 4,
 "nbformat_minor": 5
}
