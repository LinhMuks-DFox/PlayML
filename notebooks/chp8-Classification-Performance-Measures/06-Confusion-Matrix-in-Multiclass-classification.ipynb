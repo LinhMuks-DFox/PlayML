{
 "cells": [
  {
   "cell_type": "markdown",
   "id": "d39b45fc-2cf6-4f37-9b44-7feee3fbed6e",
   "metadata": {},
   "source": [
    "# 多分类问题的混淆矩阵"
   ]
  },
  {
   "cell_type": "code",
   "execution_count": 1,
   "id": "d60f7f33-e94e-4d87-b9fd-0f904e460e99",
   "metadata": {},
   "outputs": [],
   "source": [
    "import numpy as np\n",
    "import matplotlib.pyplot as plt"
   ]
  },
  {
   "cell_type": "code",
   "execution_count": 2,
   "id": "28219749-20a4-4f29-b85d-52218283c14b",
   "metadata": {},
   "outputs": [],
   "source": [
    "from sklearn import datasets\n",
    "\n",
    "# 这里不再使用有偏的数据集\n",
    "digits = datasets.load_digits()\n",
    "X = digits.data\n",
    "y = digits.target"
   ]
  },
  {
   "cell_type": "code",
   "execution_count": 3,
   "id": "1055a7b5-71b8-4413-83c7-bd56f33f5a05",
   "metadata": {},
   "outputs": [],
   "source": [
    "from sklearn.model_selection import train_test_split\n",
    "\n",
    "X_train, X_test, y_train, y_test = train_test_split(X, y, test_size=0.8, random_state=666)"
   ]
  },
  {
   "cell_type": "code",
   "execution_count": 4,
   "id": "9f86e54e-a5c7-414f-8f40-c865659f2865",
   "metadata": {},
   "outputs": [
    {
     "name": "stderr",
     "output_type": "stream",
     "text": [
      "D:\\anaconda\\lib\\site-packages\\sklearn\\linear_model\\_logistic.py:814: ConvergenceWarning: lbfgs failed to converge (status=1):\n",
      "STOP: TOTAL NO. of ITERATIONS REACHED LIMIT.\n",
      "\n",
      "Increase the number of iterations (max_iter) or scale the data as shown in:\n",
      "    https://scikit-learn.org/stable/modules/preprocessing.html\n",
      "Please also refer to the documentation for alternative solver options:\n",
      "    https://scikit-learn.org/stable/modules/linear_model.html#logistic-regression\n",
      "  n_iter_i = _check_optimize_result(\n"
     ]
    },
    {
     "data": {
      "text/plain": [
       "0.9408901251738526"
      ]
     },
     "execution_count": 4,
     "metadata": {},
     "output_type": "execute_result"
    }
   ],
   "source": [
    "from sklearn.linear_model import LogisticRegression\n",
    "\n",
    "log_reg = LogisticRegression()\n",
    "log_reg.fit(X_train, y_train)\n",
    "log_reg.score(X_test, y_test)"
   ]
  },
  {
   "cell_type": "code",
   "execution_count": 5,
   "id": "75edc9c9-4bae-460e-9650-83ac75ab3d76",
   "metadata": {},
   "outputs": [],
   "source": [
    "y_predict = log_reg.predict(X_test)"
   ]
  },
  {
   "cell_type": "code",
   "execution_count": 6,
   "id": "e141c43e-c3ba-41db-8974-6e5166fdfe32",
   "metadata": {},
   "outputs": [
    {
     "name": "stdout",
     "output_type": "stream",
     "text": [
      "Target is multiclass but average='binary'. Please choose another average setting, one of [None, 'micro', 'macro', 'weighted'].\n"
     ]
    }
   ],
   "source": [
    "from sklearn.metrics import precision_score, recall_score, f1_score\n",
    "\n",
    "# 精准率，直接这样写会Error，目标是Multiclass\n",
    "# 看提示信息：\n",
    "# ValueError: Target is multiclass but average='binary'. \n",
    "# Please choose another average setting, one of [None, 'micro', 'macro', 'weighted'].\n",
    "# 看precision_score 的文档: \n",
    "# https://scikit-learn.org/stable/modules/generated/sklearn.metrics.precision_score.html\n",
    "try:\n",
    "    precision_score(y_test, y_predict)\n",
    "except Exception as e:\n",
    "    print(e)"
   ]
  },
  {
   "cell_type": "code",
   "execution_count": 7,
   "id": "ca6a90cf-10ac-4c6f-89c1-28049ae9e195",
   "metadata": {},
   "outputs": [
    {
     "name": "stdout",
     "output_type": "stream",
     "text": [
      "0.9408901251738526 0.9408901251738526 0.9408901251738526\n"
     ]
    }
   ],
   "source": [
    "# 修改precision_score的参数, average=\"micro\", recall, f1 score 同理\n",
    "print(\n",
    "    precision_score(y_test, y_predict, average=\"micro\"),\n",
    "    recall_score(y_test, y_predict, average=\"micro\"),\n",
    "    f1_score(y_test, y_predict, average=\"micro\"),\n",
    ")"
   ]
  },
  {
   "cell_type": "code",
   "execution_count": 8,
   "id": "74ec3cd6-5e3c-4a1b-a15c-1d83a3b6061f",
   "metadata": {},
   "outputs": [
    {
     "data": {
      "text/plain": [
       "array([[148,   0,   1,   0,   0,   0,   0,   0,   0,   0],\n",
       "       [  0, 125,   2,   0,   0,   0,   0,   3,   2,  11],\n",
       "       [  0,   1, 134,   0,   0,   0,   0,   0,   1,   0],\n",
       "       [  0,   0,   1, 138,   0,   5,   0,   1,   4,   0],\n",
       "       [  2,   4,   0,   0, 138,   0,   1,   3,   0,   2],\n",
       "       [  1,   2,   1,   0,   0, 146,   1,   0,   0,   1],\n",
       "       [  0,   2,   0,   0,   0,   1, 132,   0,   1,   0],\n",
       "       [  0,   0,   0,   0,   0,   0,   0, 135,   0,   1],\n",
       "       [  0,   8,   2,   1,   3,   3,   0,   1, 120,   2],\n",
       "       [  0,   1,   0,   6,   0,   1,   0,   1,   1, 137]], dtype=int64)"
      ]
     },
     "execution_count": 8,
     "metadata": {},
     "output_type": "execute_result"
    }
   ],
   "source": [
    "from sklearn.metrics import confusion_matrix\n",
    "# 混淆矩阵天然就是支持多分类问题的，所以直接这样用就可以\n",
    "confusion_matrix(y_test, y_predict)"
   ]
  },
  {
   "cell_type": "markdown",
   "id": "309f07c7-6c6c-4c79-8e65-7fcf1187883a",
   "metadata": {},
   "source": [
    "混淆矩阵天然就是支持多分类问题的, 这里的解读方法依然不变，与2x2的矩阵的解读方式一致。  \n",
    "对于第i行，第j列来说：  \n",
    "* 行方向依然是，依然是真值，真值为i\n",
    "* 列方向依然是，依然是预测值，预测为j的样本数  \n",
    "数字最大的在对角线的位置，对角线的上的元素，$i$与$j$相等，所以这个数字代表着，真值为$i$，预测值为$i$($=j$,预测正确)的数量。    \n",
    "除了对角线以外，就是错误的。  \n",
    "一个直观的观察错误的方法，是把每一个值当作一个颜色的值，0为黑色，则："
   ]
  },
  {
   "cell_type": "code",
   "execution_count": 11,
   "id": "2f37fe9e-b448-4926-92bd-7ee0eeef8866",
   "metadata": {},
   "outputs": [
    {
     "data": {
      "image/png": "[encoded data removed]",
      "text/plain": [
       "<Figure size 480x480 with 1 Axes>"
      ]
     },
     "metadata": {},
     "output_type": "display_data"
    }
   ],
   "source": [
    "cfm = confusion_matrix(y_test, y_predict)\n",
    "plt.matshow(cfm, cmap=plt.cm.gray)\n",
    "plt.title(\"Confusion Matrix 10 x 10\")\n",
    "plt.show()"
   ]
  },
  {
   "cell_type": "markdown",
   "id": "60689e6a-662d-4774-90e3-06dc11853716",
   "metadata": {},
   "source": [
    "越亮的地方，数值越大，反之越小。这个图就表示了，预测的大多数样本是正确的。  \n",
    "只关注正确的部分是没意义的，想找到的是错误的在哪儿：  \n",
    "1. 计算出每一行都都有多少个样本，保存到变量row_sums(matrix)中\n",
    "2. 用cfm的每一行的数字除以行样本总数，得到一个百分比，保存到err_matrix中\n",
    "3. 我们不关注那些完全预测正确的结果，使用np.fill_diagonal将对角线的位置数字填写为0\n",
    "4. plot错误矩阵(err_matrix)"
   ]
  },
  {
   "cell_type": "code",
   "execution_count": 10,
   "id": "fd5381c7-684a-4bae-9461-fda6f96b38af",
   "metadata": {},
   "outputs": [
    {
     "data": {
      "image/png": "[encoded data removed]",
      "text/plain": [
       "<Figure size 480x480 with 1 Axes>"
      ]
     },
     "metadata": {},
     "output_type": "display_data"
    }
   ],
   "source": [
    "row_sums = np.sum(cfm, axis=1)\n",
    "err_matrix = cfm / row_sums\n",
    "np.fill_diagonal(err_matrix, 0)\n",
    "\n",
    "plt.matshow(err_matrix, cmap=plt.cm.gray)\n",
    "plt.show()"
   ]
  },
  {
   "cell_type": "markdown",
   "id": "43315b8c-91c9-4868-bf6e-79e9d38e1474",
   "metadata": {},
   "source": [
    "这个结果反应的就是，对于这个多分类问题的模型来说，越亮的地方就是犯错越多的地方。  \n",
    "* 在$(1, 9)$处（左上角），有一个非常亮的白格子，意思是真值为1，但是预测值是9的位置，这代表着模型将很多真值为1的样本预测成了9。\n",
    "* 同理在$(8 ,1)$的地方也有一个比较量的格子，表示，把一些真值为8的样本预测成了1\n",
    "通过这个方法，将模型具体犯错，具体是什么错误的地方可视化。有了这个提示，就可以进一步的修改算法。本案例中，可以发现模型很容易混淆1与8，1与9，那么就可以人为的去干预1和8，1和9这两个2分类问题中的那个threshold，来提高多分类问题的准确度。  \n",
    "\n",
    "另外，在这个笔记中，更注重的机器学习算法本身，很多时候一个模型的失败，其原因可能并不在于算法本身，有可能在样本数据的层面上，在真实的环境中遇到这样的Error Matrix时，应该把样本为1，样本为8，样本为9的图片拿出来再看一看，很有可能样本数据也有一些问题。即使样本数据没有问题，通过观察也可以发现存在于样本数据之中的新的特征，这些都是属于特征工程，对数据的处理的相关内容，不在本笔记的负责范围中。  \n",
    "\n",
    "所以在面对模型的失败的时候不仅仅要思考算法，还需要回头看看数据，统计，等过程。看看能不能更好的清理数据，统计数据等，这也是在机器学习中至关重要的内容。"
   ]
  }
 ],
 "metadata": {
  "kernelspec": {
   "display_name": "Python 3 (ipykernel)",
   "language": "python",
   "name": "python3"
  },
  "language_info": {
   "codemirror_mode": {
    "name": "ipython",
    "version": 3
   },
   "file_extension": ".py",
   "mimetype": "text/x-python",
   "name": "python",
   "nbconvert_exporter": "python",
   "pygments_lexer": "ipython3",
   "version": "3.8.15"
  }
 },
 "nbformat": 4,
 "nbformat_minor": 5
}
