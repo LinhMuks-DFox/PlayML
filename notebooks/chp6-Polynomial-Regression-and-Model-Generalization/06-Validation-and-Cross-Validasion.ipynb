{
 "cells": [
  {
   "cell_type": "markdown",
   "id": "6d415a65-edad-4357-a9c0-56219469b762",
   "metadata": {},
   "source": [
    "# 交叉验证"
   ]
  },
  {
   "cell_type": "code",
   "execution_count": 1,
   "id": "5490eddc-e4f6-4b50-bcf8-9fa9941c816f",
   "metadata": {},
   "outputs": [],
   "source": [
    "import numpy as np\n",
    "import matplotlib.pyplot as plt\n",
    "from sklearn import datasets\n",
    "from sklearn.model_selection import train_test_split\n",
    "from sklearn.neighbors import KNeighborsClassifier"
   ]
  },
  {
   "cell_type": "code",
   "execution_count": 2,
   "id": "a94ef98c-37ab-4332-937e-a52fff79c6b1",
   "metadata": {},
   "outputs": [],
   "source": [
    "digits = datasets.load_digits()\n",
    "X = digits.data\n",
    "y = digits.target\n",
    "X_train, X_test, y_train, y_test = train_test_split(X, y, test_size=0.4)"
   ]
  },
  {
   "cell_type": "markdown",
   "id": "9f9a50f7-507b-4e02-bf74-9ecc6ad5984f",
   "metadata": {},
   "source": [
    "### 一直以来的做法：Train Test Split 调参"
   ]
  },
  {
   "cell_type": "code",
   "execution_count": 3,
   "id": "9a42c99d-0685-457c-a99d-5618bd96be20",
   "metadata": {},
   "outputs": [
    {
     "name": "stdout",
     "output_type": "stream",
     "text": [
      "Best score: 0.9888734353268428\n",
      "Best k: 3\n",
      "Best p: 1\n"
     ]
    }
   ],
   "source": [
    "best_score, best_k, best_p = 0, 0, 0\n",
    "for k in range(2, 11): # kNN 的 k 个近邻[2, 10]\n",
    "    for p in range(1, 6): # kNN的明可夫斯基距离的参数，[1, 5]\n",
    "        knn = KNeighborsClassifier(weights=\"distance\", n_neighbors=k, p=p)\n",
    "        knn.fit(X_train, y_train)\n",
    "        score = knn.score(X_test, y_test)\n",
    "        if score > best_score:\n",
    "            best_score, best_k, best_p = score, k, p\n",
    "print(f\"Best score: {best_score}\\nBest k: {best_k}\\nBest p: {best_p}\")"
   ]
  },
  {
   "cell_type": "markdown",
   "id": "aea2cb7b-9466-4277-a73e-d3d710b6ce8a",
   "metadata": {},
   "source": [
    "### 使用交叉验证调参"
   ]
  },
  {
   "cell_type": "code",
   "execution_count": 4,
   "id": "9e88e352-35dc-4465-b16c-214142cbd972",
   "metadata": {},
   "outputs": [
    {
     "data": {
      "text/plain": [
       "array([0.96759259, 0.96296296, 1.        , 0.97674419, 0.98139535])"
      ]
     },
     "execution_count": 4,
     "metadata": {},
     "output_type": "execute_result"
    }
   ],
   "source": [
    "from sklearn.model_selection import cross_val_score\n",
    "knn = KNeighborsClassifier()\n",
    "cross_val_score(knn, X_train, y_train)"
   ]
  },
  {
   "cell_type": "code",
   "execution_count": 5,
   "id": "ab115aa7-6f04-49b6-9363-63adc074e7be",
   "metadata": {},
   "outputs": [
    {
     "name": "stdout",
     "output_type": "stream",
     "text": [
      "Best score: 0.9870155038759691\n",
      "Best k: 2\n",
      "Best p: 3\n"
     ]
    }
   ],
   "source": [
    "best_score, best_k, best_p = 0, 0, 0\n",
    "for k in range(2, 11):\n",
    "    for p in range(1, 6): \n",
    "        knn = KNeighborsClassifier(weights=\"distance\", n_neighbors=k, p=p)\n",
    "        scores = cross_val_score(knn, X_train, y_train)\n",
    "        score = np.mean(scores)\n",
    "        if score > best_score:\n",
    "            best_score, best_k, best_p = score, k, p\n",
    "print(f\"Best score: {best_score}\\nBest k: {best_k}\\nBest p: {best_p}\")"
   ]
  },
  {
   "cell_type": "markdown",
   "id": "55217715-2bfc-4bbd-aeb0-ee3902908fc1",
   "metadata": {},
   "source": [
    "* best_k, best_p 是不一样的，这种情况，可以更加相信交叉验证的结果。\n",
    "* 交叉验证出来的分数可能更低一些，但是没关系，因为这里没有过拟合\n",
    "* 最终的成绩不是这里的score，交叉验证出来的分数，并不是最终的分数，需要用测试数据集去完成最终评分\n",
    "* 这里给出的k和p产生的kNN模型，就是最优秀的。"
   ]
  },
  {
   "cell_type": "code",
   "execution_count": 6,
   "id": "62ebb3ad-b8a5-471e-b98d-527eab861a99",
   "metadata": {},
   "outputs": [],
   "source": [
    "best_knn_clf = KNeighborsClassifier(weights=\"distance\", n_neighbors=best_k, p=best_p)"
   ]
  },
  {
   "cell_type": "code",
   "execution_count": 7,
   "id": "e1951403-fcc1-4cc0-b475-4e9ca64d93b8",
   "metadata": {},
   "outputs": [
    {
     "data": {
      "text/plain": [
       "0.980528511821975"
      ]
     },
     "execution_count": 7,
     "metadata": {},
     "output_type": "execute_result"
    }
   ],
   "source": [
    "best_knn_clf.fit(X_train, y_train)\n",
    "best_knn_clf.score(X_test, y_test) # 测试数据集"
   ]
  },
  {
   "cell_type": "markdown",
   "id": "f7ca16ba-307c-4086-902c-88f785807446",
   "metadata": {},
   "source": [
    "*sklearn的交叉验证的分组是可以换的，在撰写本文的时候，是分成5组。*\n",
    "* 这个分数是在k个分组下（这里就是5）的交叉验证中找出的最好的模型的最终成绩\n",
    "* 这个准确率，是值得相信的"
   ]
  },
  {
   "cell_type": "markdown",
   "id": "fc85fda5-6db9-44f0-9134-b7958c2b5ecf",
   "metadata": {},
   "source": [
    "### 回顾网格搜索"
   ]
  },
  {
   "cell_type": "code",
   "execution_count": 8,
   "id": "ff5b938c-48de-42d0-99e2-410419019fe6",
   "metadata": {},
   "outputs": [
    {
     "name": "stdout",
     "output_type": "stream",
     "text": [
      "Fitting 5 folds for each of 45 candidates, totalling 225 fits\n"
     ]
    },
    {
     "data": {
      "text/html": [
       "<style>#sk-container-id-1 {color: black;background-color: white;}#sk-container-id-1 pre{padding: 0;}#sk-container-id-1 div.sk-toggleable {background-color: white;}#sk-container-id-1 label.sk-toggleable__label {cursor: pointer;display: block;width: 100%;margin-bottom: 0;padding: 0.3em;box-sizing: border-box;text-align: center;}#sk-container-id-1 label.sk-toggleable__label-arrow:before {content: \"▸\";float: left;margin-right: 0.25em;color: #696969;}#sk-container-id-1 label.sk-toggleable__label-arrow:hover:before {color: black;}#sk-container-id-1 div.sk-estimator:hover label.sk-toggleable__label-arrow:before {color: black;}#sk-container-id-1 div.sk-toggleable__content {max-height: 0;max-width: 0;overflow: hidden;text-align: left;background-color: #f0f8ff;}#sk-container-id-1 div.sk-toggleable__content pre {margin: 0.2em;color: black;border-radius: 0.25em;background-color: #f0f8ff;}#sk-container-id-1 input.sk-toggleable__control:checked~div.sk-toggleable__content {max-height: 200px;max-width: 100%;overflow: auto;}#sk-container-id-1 input.sk-toggleable__control:checked~label.sk-toggleable__label-arrow:before {content: \"▾\";}#sk-container-id-1 div.sk-estimator input.sk-toggleable__control:checked~label.sk-toggleable__label {background-color: #d4ebff;}#sk-container-id-1 div.sk-label input.sk-toggleable__control:checked~label.sk-toggleable__label {background-color: #d4ebff;}#sk-container-id-1 input.sk-hidden--visually {border: 0;clip: rect(1px 1px 1px 1px);clip: rect(1px, 1px, 1px, 1px);height: 1px;margin: -1px;overflow: hidden;padding: 0;position: absolute;width: 1px;}#sk-container-id-1 div.sk-estimator {font-family: monospace;background-color: #f0f8ff;border: 1px dotted black;border-radius: 0.25em;box-sizing: border-box;margin-bottom: 0.5em;}#sk-container-id-1 div.sk-estimator:hover {background-color: #d4ebff;}#sk-container-id-1 div.sk-parallel-item::after {content: \"\";width: 100%;border-bottom: 1px solid gray;flex-grow: 1;}#sk-container-id-1 div.sk-label:hover label.sk-toggleable__label {background-color: #d4ebff;}#sk-container-id-1 div.sk-serial::before {content: \"\";position: absolute;border-left: 1px solid gray;box-sizing: border-box;top: 0;bottom: 0;left: 50%;z-index: 0;}#sk-container-id-1 div.sk-serial {display: flex;flex-direction: column;align-items: center;background-color: white;padding-right: 0.2em;padding-left: 0.2em;position: relative;}#sk-container-id-1 div.sk-item {position: relative;z-index: 1;}#sk-container-id-1 div.sk-parallel {display: flex;align-items: stretch;justify-content: center;background-color: white;position: relative;}#sk-container-id-1 div.sk-item::before, #sk-container-id-1 div.sk-parallel-item::before {content: \"\";position: absolute;border-left: 1px solid gray;box-sizing: border-box;top: 0;bottom: 0;left: 50%;z-index: -1;}#sk-container-id-1 div.sk-parallel-item {display: flex;flex-direction: column;z-index: 1;position: relative;background-color: white;}#sk-container-id-1 div.sk-parallel-item:first-child::after {align-self: flex-end;width: 50%;}#sk-container-id-1 div.sk-parallel-item:last-child::after {align-self: flex-start;width: 50%;}#sk-container-id-1 div.sk-parallel-item:only-child::after {width: 0;}#sk-container-id-1 div.sk-dashed-wrapped {border: 1px dashed gray;margin: 0 0.4em 0.5em 0.4em;box-sizing: border-box;padding-bottom: 0.4em;background-color: white;}#sk-container-id-1 div.sk-label label {font-family: monospace;font-weight: bold;display: inline-block;line-height: 1.2em;}#sk-container-id-1 div.sk-label-container {text-align: center;}#sk-container-id-1 div.sk-container {/* jupyter's `normalize.less` sets `[hidden] { display: none; }` but bootstrap.min.css set `[hidden] { display: none !important; }` so we also need the `!important` here to be able to override the default hidden behavior on the sphinx rendered scikit-learn.org. See: https://github.com/scikit-learn/scikit-learn/issues/21755 */display: inline-block !important;position: relative;}#sk-container-id-1 div.sk-text-repr-fallback {display: none;}</style><div id=\"sk-container-id-1\" class=\"sk-top-container\"><div class=\"sk-text-repr-fallback\"><pre>GridSearchCV(estimator=KNeighborsClassifier(),\n",
       "             param_grid=[{&#x27;n_neighbors&#x27;: [2, 3, 4, 5, 6, 7, 8, 9, 10],\n",
       "                          &#x27;p&#x27;: [1, 2, 3, 4, 5], &#x27;weights&#x27;: [&#x27;distance&#x27;]}],\n",
       "             verbose=1)</pre><b>In a Jupyter environment, please rerun this cell to show the HTML representation or trust the notebook. <br />On GitHub, the HTML representation is unable to render, please try loading this page with nbviewer.org.</b></div><div class=\"sk-container\" hidden><div class=\"sk-item sk-dashed-wrapped\"><div class=\"sk-label-container\"><div class=\"sk-label sk-toggleable\"><input class=\"sk-toggleable__control sk-hidden--visually\" id=\"sk-estimator-id-1\" type=\"checkbox\" ><label for=\"sk-estimator-id-1\" class=\"sk-toggleable__label sk-toggleable__label-arrow\">GridSearchCV</label><div class=\"sk-toggleable__content\"><pre>GridSearchCV(estimator=KNeighborsClassifier(),\n",
       "             param_grid=[{&#x27;n_neighbors&#x27;: [2, 3, 4, 5, 6, 7, 8, 9, 10],\n",
       "                          &#x27;p&#x27;: [1, 2, 3, 4, 5], &#x27;weights&#x27;: [&#x27;distance&#x27;]}],\n",
       "             verbose=1)</pre></div></div></div><div class=\"sk-parallel\"><div class=\"sk-parallel-item\"><div class=\"sk-item\"><div class=\"sk-label-container\"><div class=\"sk-label sk-toggleable\"><input class=\"sk-toggleable__control sk-hidden--visually\" id=\"sk-estimator-id-2\" type=\"checkbox\" ><label for=\"sk-estimator-id-2\" class=\"sk-toggleable__label sk-toggleable__label-arrow\">estimator: KNeighborsClassifier</label><div class=\"sk-toggleable__content\"><pre>KNeighborsClassifier()</pre></div></div></div><div class=\"sk-serial\"><div class=\"sk-item\"><div class=\"sk-estimator sk-toggleable\"><input class=\"sk-toggleable__control sk-hidden--visually\" id=\"sk-estimator-id-3\" type=\"checkbox\" ><label for=\"sk-estimator-id-3\" class=\"sk-toggleable__label sk-toggleable__label-arrow\">KNeighborsClassifier</label><div class=\"sk-toggleable__content\"><pre>KNeighborsClassifier()</pre></div></div></div></div></div></div></div></div></div></div>"
      ],
      "text/plain": [
       "GridSearchCV(estimator=KNeighborsClassifier(),\n",
       "             param_grid=[{'n_neighbors': [2, 3, 4, 5, 6, 7, 8, 9, 10],\n",
       "                          'p': [1, 2, 3, 4, 5], 'weights': ['distance']}],\n",
       "             verbose=1)"
      ]
     },
     "execution_count": 8,
     "metadata": {},
     "output_type": "execute_result"
    }
   ],
   "source": [
    "from sklearn.model_selection import GridSearchCV\n",
    "param_grid = [\n",
    "    {\n",
    "        \"weights\" : [\"distance\"],\n",
    "        \"n_neighbors\" : [i for i in range(2, 11)],\n",
    "        \"p\" : [i for i in range(1, 6)]\n",
    "    }\n",
    "]\n",
    "knn = KNeighborsClassifier()\n",
    "grid_serch = GridSearchCV(knn, param_grid, verbose=1) # CV, 就是交叉验证Cross Validation的意思\n",
    "grid_serch.fit(X_train, y_train)"
   ]
  },
  {
   "cell_type": "markdown",
   "id": "76836ea6-3627-4504-a14b-e6bb56d696f5",
   "metadata": {},
   "source": [
    "这里显示的Fitting 5 folds，就是说交叉验证时分成了多少组。\n",
    "* 有45个参数组合\n",
    "* 针对45个参数组合，分别生成5个模型进行训练，一共是255个模型"
   ]
  },
  {
   "cell_type": "code",
   "execution_count": 9,
   "id": "16707788-07fc-4d96-b9e3-006047e7ff10",
   "metadata": {},
   "outputs": [
    {
     "data": {
      "text/plain": [
       "0.9870155038759691"
      ]
     },
     "execution_count": 9,
     "metadata": {},
     "output_type": "execute_result"
    }
   ],
   "source": [
    "grid_serch.best_score_"
   ]
  },
  {
   "cell_type": "code",
   "execution_count": 10,
   "id": "b0808bc7-8d99-48b3-963e-76c62f54569d",
   "metadata": {},
   "outputs": [
    {
     "data": {
      "text/plain": [
       "{'n_neighbors': 2, 'p': 3, 'weights': 'distance'}"
      ]
     },
     "execution_count": 10,
     "metadata": {},
     "output_type": "execute_result"
    }
   ],
   "source": [
    "grid_serch.best_params_"
   ]
  },
  {
   "cell_type": "code",
   "execution_count": 11,
   "id": "6a492c72-e555-41d4-9ca0-d336d7876b6b",
   "metadata": {},
   "outputs": [],
   "source": [
    "bst_knn = grid_serch.best_estimator_ # 获取最好的参数对应的最好的模型"
   ]
  },
  {
   "cell_type": "code",
   "execution_count": 12,
   "id": "8387ec52-96a4-492a-ac15-7c65d56788c4",
   "metadata": {},
   "outputs": [
    {
     "data": {
      "text/plain": [
       "0.980528511821975"
      ]
     },
     "execution_count": 12,
     "metadata": {},
     "output_type": "execute_result"
    }
   ],
   "source": [
    "bst_knn.score(X_test, y_test)"
   ]
  },
  {
   "cell_type": "markdown",
   "id": "69cf74e8-8d58-4799-bfce-c1d746428c1e",
   "metadata": {},
   "source": [
    "* cross_val_score()中，cv参数用于控制分组个数\n",
    "* GridSearchCV()也是。\n"
   ]
  }
 ],
 "metadata": {
  "kernelspec": {
   "display_name": "Python 3 (ipykernel)",
   "language": "python",
   "name": "python3"
  },
  "language_info": {
   "codemirror_mode": {
    "name": "ipython",
    "version": 3
   },
   "file_extension": ".py",
   "mimetype": "text/x-python",
   "name": "python",
   "nbconvert_exporter": "python",
   "pygments_lexer": "ipython3",
   "version": "3.9.13"
  }
 },
 "nbformat": 4,
 "nbformat_minor": 5
}
