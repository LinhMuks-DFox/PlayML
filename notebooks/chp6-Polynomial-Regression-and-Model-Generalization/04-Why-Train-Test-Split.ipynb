{
 "cells": [
  {
   "cell_type": "markdown",
   "id": "881f54d7-8eaa-447d-8079-5b049597eab4",
   "metadata": {},
   "source": [
    "# Train Test Split 的意义"
   ]
  },
  {
   "cell_type": "code",
   "execution_count": 1,
   "id": "356b2a37-fcab-4651-a9a5-64d80ebbcf58",
   "metadata": {},
   "outputs": [],
   "source": [
    "import numpy as np\n",
    "import matplotlib.pyplot as plt\n",
    "from sklearn.model_selection import train_test_split\n",
    "np.random.seed(666)\n",
    "x = np.random.uniform(-3, 3, size=100)\n",
    "X = x.reshape(-1, 1)\n",
    "y = 0.5 * x ** 2 + x + 2 + np.random.normal(0, 1, size=100)\n",
    "X_train, X_test, y_train, y_test = train_test_split(X, y, random_state=666)"
   ]
  },
  {
   "cell_type": "markdown",
   "id": "6de16c86-f1c7-4f76-85df-93cd74a0a140",
   "metadata": {},
   "source": [
    "## 使用线性回归"
   ]
  },
  {
   "cell_type": "code",
   "execution_count": 2,
   "id": "d6fa4871-8f3a-4682-ac2d-ad46c72943ab",
   "metadata": {},
   "outputs": [
    {
     "data": {
      "image/png": "[encoded data removed]",
      "text/plain": [
       "<Figure size 640x480 with 1 Axes>"
      ]
     },
     "metadata": {},
     "output_type": "display_data"
    },
    {
     "data": {
      "text/plain": [
       "0.4953707811865009"
      ]
     },
     "execution_count": 2,
     "metadata": {},
     "output_type": "execute_result"
    }
   ],
   "source": [
    "from sklearn.linear_model import LinearRegression\n",
    "lin_reg = LinearRegression()\n",
    "lin_reg.fit(X, y)\n",
    "y_predict = lin_reg.predict(X)\n",
    "plt.plot(x, y_predict, color=\"r\")\n",
    "plt.scatter(x, y)\n",
    "plt.show()\n",
    "lin_reg.score(X, y)"
   ]
  },
  {
   "cell_type": "code",
   "execution_count": 3,
   "id": "d67e8030-8ed3-4dd4-be91-bba5e7b48400",
   "metadata": {},
   "outputs": [
    {
     "name": "stdout",
     "output_type": "stream",
     "text": [
      "MSE: 3.0750025765636577\n"
     ]
    }
   ],
   "source": [
    "from sklearn.metrics import mean_squared_error\n",
    "y_predict = lin_reg.predict(X)\n",
    "print(f\"MSE: {mean_squared_error(y, y_predict)}\")"
   ]
  },
  {
   "cell_type": "code",
   "execution_count": 4,
   "id": "fe3f76a4-9df0-4263-a81c-7eece82875f5",
   "metadata": {},
   "outputs": [],
   "source": [
    "from sklearn.pipeline import Pipeline\n",
    "from sklearn.preprocessing import StandardScaler\n",
    "from sklearn.preprocessing import PolynomialFeatures\n",
    "np.random.seed(666)\n",
    "x = np.random.uniform(-3, 3, size=100)\n",
    "X = x.reshape(-1, 1)\n",
    "y = 0.5 * x ** 2 + x + 2 + np.random.normal(0, 1, size=100)\n",
    "\n",
    "def PolynomialRegression(degree):\n",
    "    return Pipeline([\n",
    "        (\"Poly\", PolynomialFeatures(degree=degree)),\n",
    "        (\"std_scaler\", StandardScaler()),\n",
    "        (\"lin_reg\", LinearRegression())\n",
    "    ])\n"
   ]
  },
  {
   "cell_type": "code",
   "execution_count": 5,
   "id": "aa0d1d2d-8dcf-44a8-bcd5-544269baf920",
   "metadata": {},
   "outputs": [
    {
     "name": "stdout",
     "output_type": "stream",
     "text": [
      "Poly2: MSE: 0.8035641056297902\n"
     ]
    }
   ],
   "source": [
    "# degree = 2\n",
    "poly2_reg = PolynomialRegression(2)\n",
    "poly2_reg.fit(X_train, y_train)\n",
    "y2_predict = poly2_reg.predict(X_test)\n",
    "print(f\"Poly2: MSE: {mean_squared_error(y_test, y2_predict)}\")"
   ]
  },
  {
   "cell_type": "code",
   "execution_count": 6,
   "id": "55c90ccd-2b4e-4604-ac42-294eeeac384c",
   "metadata": {},
   "outputs": [
    {
     "name": "stdout",
     "output_type": "stream",
     "text": [
      "Poly10: MSE: 0.9212930722150782\n"
     ]
    }
   ],
   "source": [
    "# degree = 10\n",
    "poly10_reg = PolynomialRegression(10)\n",
    "poly10_reg.fit(X_train, y_train)\n",
    "y10_predict = poly10_reg.predict(X_test)\n",
    "print(f\"Poly10: MSE: {mean_squared_error(y_test, y10_predict)}\")"
   ]
  },
  {
   "cell_type": "code",
   "execution_count": 9,
   "id": "0a1b1345-0c21-430a-a84a-1895c0c35c17",
   "metadata": {},
   "outputs": [
    {
     "name": "stdout",
     "output_type": "stream",
     "text": [
      "Poly10: MSE: 71011787461.53899\n"
     ]
    }
   ],
   "source": [
    "# degree = 100\n",
    "poly100_reg = PolynomialRegression(100)\n",
    "poly100_reg.fit(X_train, y_train)\n",
    "y100_predict = poly100_reg.predict(X_test)\n",
    "print(f\"Poly10: MSE: {mean_squared_error(y_test, y100_predict)}\")"
   ]
  },
  {
   "cell_type": "code",
   "execution_count": null,
   "id": "d965f375-9050-4e7b-a408-800e412c742b",
   "metadata": {},
   "outputs": [],
   "source": []
  }
 ],
 "metadata": {
  "kernelspec": {
   "display_name": "Python 3 (ipykernel)",
   "language": "python",
   "name": "python3"
  },
  "language_info": {
   "codemirror_mode": {
    "name": "ipython",
    "version": 3
   },
   "file_extension": ".py",
   "mimetype": "text/x-python",
   "name": "python",
   "nbconvert_exporter": "python",
   "pygments_lexer": "ipython3",
   "version": "3.9.13"
  }
 },
 "nbformat": 4,
 "nbformat_minor": 5
}
